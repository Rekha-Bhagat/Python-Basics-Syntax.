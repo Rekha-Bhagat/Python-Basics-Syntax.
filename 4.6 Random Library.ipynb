{
 "cells": [
  {
   "cell_type": "code",
   "execution_count": 5,
   "metadata": {},
   "outputs": [
    {
     "data": {
      "text/plain": [
       "9"
      ]
     },
     "execution_count": 5,
     "metadata": {},
     "output_type": "execute_result"
    }
   ],
   "source": [
    "import random\n",
    "random.randrange(1,10)  # it gives any random number choosen by computer at the time of execution\n"
   ]
  },
  {
   "cell_type": "code",
   "execution_count": 19,
   "metadata": {},
   "outputs": [
    {
     "data": {
      "text/plain": [
       "51"
      ]
     },
     "execution_count": 19,
     "metadata": {},
     "output_type": "execute_result"
    }
   ],
   "source": [
    "random.randrange(1,100)"
   ]
  },
  {
   "cell_type": "code",
   "execution_count": 20,
   "metadata": {},
   "outputs": [
    {
     "data": {
      "text/plain": [
       "1"
      ]
     },
     "execution_count": 20,
     "metadata": {},
     "output_type": "execute_result"
    }
   ],
   "source": [
    "random.randrange(1,4)    # u will get the random number below 4 not 4..\n"
   ]
  },
  {
   "cell_type": "markdown",
   "metadata": {},
   "source": [
    "random.randrange?  #(Shift + Tab)\n",
    "# will give the information about random.randrange function\n",
    "\n",
    "'''Signature: random.randrange(start, stop=None, step=1, _int=<class 'int'>)\n",
    "Docstring:\n",
    "Choose a random item from range(start, stop[, step]).\n",
    "\n",
    "\n",
    "'''"
   ]
  },
  {
   "cell_type": "code",
   "execution_count": 23,
   "metadata": {},
   "outputs": [
    {
     "data": {
      "text/plain": [
       "0.15848295380868038"
      ]
     },
     "execution_count": 23,
     "metadata": {},
     "output_type": "execute_result"
    }
   ],
   "source": [
    "random.random()  # it gives the random number between 0 to 1.."
   ]
  },
  {
   "cell_type": "code",
   "execution_count": 55,
   "metadata": {},
   "outputs": [
    {
     "data": {
      "text/plain": [
       "0.46043768935423746"
      ]
     },
     "execution_count": 55,
     "metadata": {},
     "output_type": "execute_result"
    }
   ],
   "source": [
    "random.random()"
   ]
  },
  {
   "cell_type": "code",
   "execution_count": 46,
   "metadata": {},
   "outputs": [
    {
     "data": {
      "text/plain": [
       "<bound method Random.randint of <random.Random object at 0x020F28B8>>"
      ]
     },
     "execution_count": 46,
     "metadata": {},
     "output_type": "execute_result"
    }
   ],
   "source": [
    "random.randint"
   ]
  },
  {
   "cell_type": "code",
   "execution_count": 54,
   "metadata": {},
   "outputs": [
    {
     "data": {
      "text/plain": [
       "5"
      ]
     },
     "execution_count": 54,
     "metadata": {},
     "output_type": "execute_result"
    }
   ],
   "source": [
    "random.randint(1,5)  # will give an integer value 1 to 5 ..\n",
    "#  randrange will not give the endpoint value ,... but randint will that end\n",
    "#  give...\n",
    "\n"
   ]
  },
  {
   "cell_type": "code",
   "execution_count": 24,
   "metadata": {},
   "outputs": [],
   "source": [
    "l=[]\n",
    "l.append(2)"
   ]
  },
  {
   "cell_type": "code",
   "execution_count": 49,
   "metadata": {},
   "outputs": [
    {
     "name": "stdout",
     "output_type": "stream",
     "text": [
      "[2]\n"
     ]
    }
   ],
   "source": [
    "print (l)"
   ]
  },
  {
   "cell_type": "code",
   "execution_count": 50,
   "metadata": {},
   "outputs": [],
   "source": [
    "l.append(3)"
   ]
  },
  {
   "cell_type": "code",
   "execution_count": 25,
   "metadata": {},
   "outputs": [],
   "source": [
    "l.append(6)"
   ]
  },
  {
   "cell_type": "code",
   "execution_count": 26,
   "metadata": {},
   "outputs": [
    {
     "name": "stdout",
     "output_type": "stream",
     "text": [
      "[2, 6]\n"
     ]
    }
   ],
   "source": [
    "l.sort\n",
    "print(l)"
   ]
  },
  {
   "cell_type": "code",
   "execution_count": 27,
   "metadata": {},
   "outputs": [],
   "source": [
    "l.reverse()"
   ]
  },
  {
   "cell_type": "code",
   "execution_count": 28,
   "metadata": {},
   "outputs": [
    {
     "name": "stdout",
     "output_type": "stream",
     "text": [
      "[6, 2]\n"
     ]
    },
    {
     "data": {
      "text/plain": [
       "0.13549098448272356"
      ]
     },
     "execution_count": 28,
     "metadata": {},
     "output_type": "execute_result"
    }
   ],
   "source": [
    "print(l)\n",
    "\n",
    "random.random()"
   ]
  },
  {
   "cell_type": "code",
   "execution_count": 30,
   "metadata": {},
   "outputs": [
    {
     "name": "stdout",
     "output_type": "stream",
     "text": [
      "[0.9002131874837946, 0.5385865801211085, 0.9106342806630937, 0.7890915435642449, 0.24578902373727007, 0.9209235490156532, 0.4709233591208781, 0.7033705952766733, 0.4550772989017303]\n",
      "9\n"
     ]
    }
   ],
   "source": [
    "l=[]\n",
    "import random\n",
    "for i in range(1,10):\n",
    "    l.append(random.random())#  100 random numbers between 0 to 1 are appended...\n",
    "print(l)\n",
    "print(len(l))"
   ]
  },
  {
   "cell_type": "markdown",
   "metadata": {},
   "source": [
    "Applications \n",
    "\n",
    "Choose 40 people & assign them a birth date from 0 to 365 days..\n",
    "Like if the person is born on Jan 5th no assigned to him will be 5 ,\n",
    "\n",
    "If he is born on 2 feb the he will be assigned num (31 days of Jan + 2 days of Feb i.e 33)\n"
   ]
  },
  {
   "cell_type": "code",
   "execution_count": 57,
   "metadata": {},
   "outputs": [
    {
     "name": "stdout",
     "output_type": "stream",
     "text": [
      "[]\n"
     ]
    }
   ],
   "source": [
    "L=[]\n",
    "print(L)"
   ]
  },
  {
   "cell_type": "code",
   "execution_count": 60,
   "metadata": {},
   "outputs": [],
   "source": [
    "for i in range(40):\n",
    "    L.append(random.randint(1,31))\n",
    "    "
   ]
  },
  {
   "cell_type": "markdown",
   "metadata": {},
   "source": [
    "Collect 60 students from the MIT college. collect the percentage of the students in the list format. Random number from 40 to 100\n"
   ]
  },
  {
   "cell_type": "code",
   "execution_count": 41,
   "metadata": {},
   "outputs": [
    {
     "name": "stdout",
     "output_type": "stream",
     "text": [
      "Dist. students list [70, 71, 71, 71, 73, 73, 73, 74, 74, 74, 74, 76, 76, 78, 80, 80, 81, 81, 83, 84, 84, 85, 85, 87, 87, 89, 89, 89, 90, 90, 93, 93, 93, 94, 95, 97, 97, 97, 100]\n",
      "Topper Got scored as   100\n"
     ]
    }
   ],
   "source": [
    "'''one class of strength 100.\n",
    "Now collect the students from the class with pass catagory(40-100).\n",
    "if the students having marks greter than 70 % grade them as Dist.\n",
    "save all the students above 70%\n",
    "70 -100 marks range. max function to get the maximum value.'''\n",
    "student_marks=[]\n",
    "dist=[]\n",
    "pass1=[]\n",
    "for marks in range(1,101):\n",
    "    student_marks.append(random.randint(20,100))\n",
    "for marks in student_marks:\n",
    "    if (marks>=70):\n",
    "        dist.append(marks)\n",
    "    else:\n",
    "        continue\n",
    "\n",
    "dist.sort()\n",
    "\n",
    "\n",
    "print(\"Dist. students list\",dist)\n",
    "print(\"Topper Got scored as  \",max(dist))\n"
   ]
  },
  {
   "cell_type": "code",
   "execution_count": 71,
   "metadata": {},
   "outputs": [
    {
     "name": "stdout",
     "output_type": "stream",
     "text": [
      "[40, 41, 42, 43, 43, 43, 44, 45, 46, 48, 48, 48, 49, 52, 56, 57, 58, 63, 66, 66, 67, 67, 68, 70, 71, 73, 73, 75, 75, 75, 76, 77, 77, 77, 78, 79, 80, 82, 84, 84, 85, 85, 85, 86, 86, 87, 88, 89, 90, 90, 90, 91, 91, 92, 92, 94, 94, 96, 98, 98, 98]\n",
      " Disticyion Students [75, 75, 75, 76, 77, 77, 77, 78, 79, 80, 82, 84, 84, 85, 85, 85, 86, 86, 87, 88, 89, 90, 90, 90, 91, 91, 92, 92, 94, 94, 96, 98, 98, 98]\n"
     ]
    }
   ],
   "source": [
    "stud=[]\n",
    "stud_dst=[]\n",
    "for stud1 in range(61):\n",
    "    stud.append(random.randint(40,100))\n",
    "    stud.sort()\n",
    "print(stud)\n",
    "\n",
    "for i in stud:\n",
    "    if (i>=75):\n",
    "        stud_dst.append(i)\n",
    "    else:\n",
    "        continue\n",
    "print(\" Disticyion Students\",stud_dst)\n",
    "        "
   ]
  },
  {
   "cell_type": "code",
   "execution_count": null,
   "metadata": {},
   "outputs": [],
   "source": [
    "COVID 19 check up search..\n",
    "1-100   total number of people in that colony\n",
    "6 to 90   Range should be collected.\n",
    "sort 6 - 90 age group..\n",
    " 50 & above Temp & BP check..\n",
    "    \n",
    "Checking has been done."
   ]
  },
  {
   "cell_type": "code",
   "execution_count": 59,
   "metadata": {},
   "outputs": [
    {
     "name": "stdout",
     "output_type": "stream",
     "text": [
      "[14, 31, 8, 28, 3, 6, 13, 26, 31, 14, 17, 23, 17, 9, 26, 25, 29, 4, 13, 1, 12, 8, 19, 22, 7, 9, 10, 7, 22, 11, 19, 16, 22, 19, 24, 16, 18, 5, 30, 19]\n"
     ]
    }
   ],
   "source": [
    "print(L)"
   ]
  },
  {
   "cell_type": "code",
   "execution_count": 70,
   "metadata": {},
   "outputs": [
    {
     "name": "stdout",
     "output_type": "stream",
     "text": [
      "[7, 9, 32, 32, 45, 53, 54, 76, 88, 93, 100, 110, 114, 151, 158, 158, 163, 171, 174, 174, 178, 211, 217, 224, 225, 238, 247, 261, 270, 283, 286, 287, 288, 303, 306, 316, 333, 358, 359, 364]\n"
     ]
    }
   ],
   "source": [
    "L.sort()\n",
    "print(L)"
   ]
  },
  {
   "cell_type": "code",
   "execution_count": 71,
   "metadata": {},
   "outputs": [
    {
     "name": "stdout",
     "output_type": "stream",
     "text": [
      "[113, 8, 185, 268, 245, 267, 204, 178, 100, 252, 316, 345, 111, 11, 43, 208, 189, 240, 275, 59, 253, 351, 259, 81, 26, 326, 68, 101, 23, 296, 365, 231, 319, 186, 293, 241, 149, 25, 53, 36, 251, 288, 284, 59, 308, 78, 61, 77, 63, 304, 199, 229, 122, 163, 346, 306, 5, 295, 202, 186]\n"
     ]
    }
   ],
   "source": [
    "import random\n",
    "l=[]\n",
    "for i in range (60):\n",
    "    l.append(random.randint(1,365))\n",
    "print(l)"
   ]
  },
  {
   "cell_type": "code",
   "execution_count": 21,
   "metadata": {},
   "outputs": [],
   "source": [
    "l.sort()"
   ]
  },
  {
   "cell_type": "code",
   "execution_count": 22,
   "metadata": {},
   "outputs": [
    {
     "name": "stdout",
     "output_type": "stream",
     "text": [
      "[1, 3, 13, 14, 20, 23, 28, 34, 63, 83, 88, 92, 98, 99, 106, 122, 122, 125, 128, 136, 150, 158, 170, 171, 175, 179, 181, 183, 194, 203, 205, 209, 224, 225, 227, 228, 233, 237, 239, 278, 280, 286, 286, 287, 287, 290, 294, 303, 310, 310, 311, 320, 344, 345, 348, 357, 357, 358, 361, 361]\n"
     ]
    }
   ],
   "source": [
    "print(l)"
   ]
  },
  {
   "cell_type": "code",
   "execution_count": 23,
   "metadata": {},
   "outputs": [
    {
     "data": {
      "text/plain": [
       "60"
      ]
     },
     "execution_count": 23,
     "metadata": {},
     "output_type": "execute_result"
    }
   ],
   "source": [
    "len(l)"
   ]
  },
  {
   "cell_type": "code",
   "execution_count": 24,
   "metadata": {},
   "outputs": [
    {
     "name": "stdout",
     "output_type": "stream",
     "text": [
      "[1, 3, 13, 14, 20, 23, 28, 34, 63, 83, 88, 92, 98, 99, 106, 122, 122, 125, 128, 136, 150, 158, 170, 171, 175, 179, 181, 183, 194, 203, 205, 209, 224, 225, 227, 228, 233, 237, 239, 278, 280, 286, 286, 287, 287, 290, 294, 303, 310, 310, 311, 320, 344, 345, 348, 357, 357, 358, 361, 361]\n"
     ]
    }
   ],
   "source": [
    "print(l)"
   ]
  },
  {
   "cell_type": "code",
   "execution_count": 72,
   "metadata": {},
   "outputs": [
    {
     "name": "stdout",
     "output_type": "stream",
     "text": [
      "[113, 8, 185, 268, 245, 267, 204, 178, 100, 252, 316, 345, 111, 11, 43, 208, 189, 240, 275, 59, 253, 351, 259, 81, 26, 326, 68, 101, 23, 296, 365, 231, 319, 186, 293, 241, 149, 25, 53, 36, 251, 288, 284, 59, 308, 78, 61, 77, 63, 304, 199, 229, 122, 163, 346, 306, 5, 295, 202, 186]\n"
     ]
    }
   ],
   "source": [
    "print(l)"
   ]
  },
  {
   "cell_type": "code",
   "execution_count": 26,
   "metadata": {},
   "outputs": [
    {
     "data": {
      "text/plain": [
       "60"
      ]
     },
     "execution_count": 26,
     "metadata": {},
     "output_type": "execute_result"
    }
   ],
   "source": [
    "len(l)"
   ]
  },
  {
   "cell_type": "code",
   "execution_count": 27,
   "metadata": {},
   "outputs": [
    {
     "ename": "SyntaxError",
     "evalue": "invalid syntax (<ipython-input-27-a67a4edcea8b>, line 1)",
     "output_type": "error",
     "traceback": [
      "\u001b[1;36m  File \u001b[1;32m\"<ipython-input-27-a67a4edcea8b>\"\u001b[1;36m, line \u001b[1;32m1\u001b[0m\n\u001b[1;33m    len function will give the total numbers inside the list..\u001b[0m\n\u001b[1;37m               ^\u001b[0m\n\u001b[1;31mSyntaxError\u001b[0m\u001b[1;31m:\u001b[0m invalid syntax\n"
     ]
    }
   ],
   "source": [
    "len function will give the total numbers inside the list..\n",
    "as we are running the loop up to 60, the elements in the list will be 60.\n",
    "\n",
    "as we are observing repetations here,...\n",
    "\n",
    "because of every 40-60 students there will be repetation of two birth dates of the students."
   ]
  }
 ],
 "metadata": {
  "kernelspec": {
   "display_name": "Python 3",
   "language": "python",
   "name": "python3"
  },
  "language_info": {
   "codemirror_mode": {
    "name": "ipython",
    "version": 3
   },
   "file_extension": ".py",
   "mimetype": "text/x-python",
   "name": "python",
   "nbconvert_exporter": "python",
   "pygments_lexer": "ipython3",
   "version": "3.6.5"
  }
 },
 "nbformat": 4,
 "nbformat_minor": 2
}
