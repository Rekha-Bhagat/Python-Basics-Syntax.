{
 "cells": [
  {
   "cell_type": "code",
   "execution_count": 24,
   "metadata": {},
   "outputs": [
    {
     "data": {
      "text/plain": [
       "9"
      ]
     },
     "execution_count": 24,
     "metadata": {},
     "output_type": "execute_result"
    }
   ],
   "source": [
    "import random\n",
    "random.randrange(1,10)  # it gives any random number choosen by computer at the time of execution\n"
   ]
  },
  {
   "cell_type": "code",
   "execution_count": 26,
   "metadata": {},
   "outputs": [
    {
     "data": {
      "text/plain": [
       "5"
      ]
     },
     "execution_count": 26,
     "metadata": {},
     "output_type": "execute_result"
    }
   ],
   "source": [
    "random.randrange(1,100)"
   ]
  },
  {
   "cell_type": "code",
   "execution_count": 34,
   "metadata": {},
   "outputs": [
    {
     "data": {
      "text/plain": [
       "1"
      ]
     },
     "execution_count": 34,
     "metadata": {},
     "output_type": "execute_result"
    }
   ],
   "source": [
    "random.randrange(1,4)    # u will get the random number below 4 not 4..\n"
   ]
  },
  {
   "cell_type": "markdown",
   "metadata": {},
   "source": [
    "random.randrange?  #(Shift + Tab)\n",
    "# will give the information about random.randrange function\n",
    "\n",
    "'''Signature: random.randrange(start, stop=None, step=1, _int=<class 'int'>)\n",
    "Docstring:\n",
    "Choose a random item from range(start, stop[, step]).\n",
    "\n",
    "\n",
    "'''"
   ]
  },
  {
   "cell_type": "code",
   "execution_count": 44,
   "metadata": {},
   "outputs": [
    {
     "data": {
      "text/plain": [
       "0.3192838724379603"
      ]
     },
     "execution_count": 44,
     "metadata": {},
     "output_type": "execute_result"
    }
   ],
   "source": [
    "random.random()  # it gives the random number between 0 to 1.."
   ]
  },
  {
   "cell_type": "code",
   "execution_count": 55,
   "metadata": {},
   "outputs": [
    {
     "data": {
      "text/plain": [
       "0.46043768935423746"
      ]
     },
     "execution_count": 55,
     "metadata": {},
     "output_type": "execute_result"
    }
   ],
   "source": [
    "random.random()"
   ]
  },
  {
   "cell_type": "code",
   "execution_count": 46,
   "metadata": {},
   "outputs": [
    {
     "data": {
      "text/plain": [
       "<bound method Random.randint of <random.Random object at 0x020F28B8>>"
      ]
     },
     "execution_count": 46,
     "metadata": {},
     "output_type": "execute_result"
    }
   ],
   "source": [
    "random.randint"
   ]
  },
  {
   "cell_type": "code",
   "execution_count": 54,
   "metadata": {},
   "outputs": [
    {
     "data": {
      "text/plain": [
       "5"
      ]
     },
     "execution_count": 54,
     "metadata": {},
     "output_type": "execute_result"
    }
   ],
   "source": [
    "random.randint(1,5)  # will give an integer value 1 to 5 ..\n",
    "#  randrange will not give the endpoint value ,... but randint will that end\n",
    "#  give...\n",
    "\n"
   ]
  },
  {
   "cell_type": "code",
   "execution_count": 48,
   "metadata": {},
   "outputs": [],
   "source": [
    "l=[]\n",
    "l.append(2)"
   ]
  },
  {
   "cell_type": "code",
   "execution_count": 49,
   "metadata": {},
   "outputs": [
    {
     "name": "stdout",
     "output_type": "stream",
     "text": [
      "[2]\n"
     ]
    }
   ],
   "source": [
    "print (l)"
   ]
  },
  {
   "cell_type": "code",
   "execution_count": 50,
   "metadata": {},
   "outputs": [],
   "source": [
    "l.append(3)"
   ]
  },
  {
   "cell_type": "code",
   "execution_count": 51,
   "metadata": {},
   "outputs": [],
   "source": [
    "l.append(6)"
   ]
  },
  {
   "cell_type": "code",
   "execution_count": 52,
   "metadata": {},
   "outputs": [
    {
     "name": "stdout",
     "output_type": "stream",
     "text": [
      "[2, 3, 6]\n"
     ]
    }
   ],
   "source": [
    "l.sort\n",
    "print(l)"
   ]
  },
  {
   "cell_type": "code",
   "execution_count": 53,
   "metadata": {},
   "outputs": [],
   "source": [
    "l.reverse()"
   ]
  },
  {
   "cell_type": "code",
   "execution_count": 14,
   "metadata": {},
   "outputs": [
    {
     "name": "stdout",
     "output_type": "stream",
     "text": [
      "[6, 3, 2]\n"
     ]
    }
   ],
   "source": [
    "print(l)\n",
    "\n",
    "random.random()"
   ]
  },
  {
   "cell_type": "code",
   "execution_count": 56,
   "metadata": {},
   "outputs": [
    {
     "name": "stdout",
     "output_type": "stream",
     "text": [
      "[6, 3, 2, 0.14479543011098883, 0.8492513006067327, 0.2898184182827839, 0.5333467348125515, 0.5591085721165862, 0.8044608820690208, 0.7134103557138278, 0.6764929107570535, 0.5211237080112439, 0.10958867453673182, 0.7851516117189126, 0.8891399047169154, 0.8068378951958333, 0.16634825323258084, 0.9463435748567126, 0.1156258510092224, 0.25627452336488954, 0.917917556537989, 0.8459718563278159, 0.9536211340087601, 0.641161422320467, 0.015678692818843598, 0.29553953729838045, 0.7642639358191147, 0.6775478013447986, 0.37988313868532375, 0.26733701458804016, 0.5594782832527143, 0.8165105037542865, 0.2548242491257082, 0.0032309504988934368, 0.37610968988147075, 0.5131912193655553, 0.0003089364008647122, 0.49551321539551574, 0.495228570631136, 0.5197590700396132, 0.498741248946037, 0.4392549756088894, 0.04040696642433639, 0.6138415796984773, 0.3387465088878213, 0.8545135620893592, 0.3216516465378535, 0.17866269668877643, 0.14794348587200223, 0.4055983041106167, 0.9814537115658248, 0.6258926121777304, 0.24835581693497788, 0.26739563108457753, 0.30336424807071316, 0.640066137784204, 0.23527520690051884, 0.798340973956887, 0.8858797802413898, 0.5406347639019785, 0.09975739931611394, 0.20427843094909526, 0.30629829684679, 0.024638704478778584, 0.8813039135398637, 0.24025394930575916, 0.398027371447473, 0.19574763230009662, 0.47270485732484846, 0.9564896848847648, 0.058559458979278944, 0.7492457873852191, 0.0651161092178012, 0.9502913882888271, 0.5209485830104352, 0.8069922356986561, 0.45447734934989104, 0.5843331171069545, 0.8304621057208365, 0.15237045074426503, 0.2421537316610135, 0.48588060183808757, 0.3789423037143389, 0.22559899726884658, 0.2188027300868619, 0.6327100274563571, 0.78618446530096, 0.3834744545509986, 0.49128464909506053, 0.7028203165531778, 0.8951927208510533, 0.579806061117537, 0.792894549580251, 0.9837803354706235, 0.06985730003684798, 0.37067118718656245, 0.6515040143219213, 0.9400208545867462, 0.9218900911760594, 0.11136381014127206, 0.18604530957978294, 0.06167089729872943, 0.03958680383928459, 0.8258980350255666, 0.017659926465141584, 0.8041916526540529, 0.6816170195357514, 0.2195488593060062, 0.8864080138844329, 0.5526372197388797, 0.9985691017501445]\n",
      "111\n"
     ]
    }
   ],
   "source": [
    "import random\n",
    "for i in range(1,10):\n",
    "    l.append(random.random())#  100 random numbers between 0 to 1 are appended...\n",
    "print(l)\n",
    "print(len(l))"
   ]
  },
  {
   "cell_type": "markdown",
   "metadata": {},
   "source": [
    "Applications \n",
    "\n",
    "Choose 40 people & assign them a birth date from 0 to 365 days..\n",
    "Like if the person is born on Jan 5th no assigned to him will be 5 ,\n",
    "\n",
    "If he is born on 2 feb the he will be assigned num (31 days of Jan + 2 days of Feb i.e 33)\n"
   ]
  },
  {
   "cell_type": "code",
   "execution_count": 57,
   "metadata": {},
   "outputs": [
    {
     "name": "stdout",
     "output_type": "stream",
     "text": [
      "[]\n"
     ]
    }
   ],
   "source": [
    "L=[]\n",
    "print(L)"
   ]
  },
  {
   "cell_type": "code",
   "execution_count": 60,
   "metadata": {},
   "outputs": [],
   "source": [
    "for i in range(40):\n",
    "    L.append(random.randint(1,31))\n",
    "    "
   ]
  },
  {
   "cell_type": "markdown",
   "metadata": {},
   "source": [
    "Collect 60 students from the MIT college. collect the percentage of the students in the list format. Random number from 40 to 100"
   ]
  },
  {
   "cell_type": "code",
   "execution_count": 71,
   "metadata": {},
   "outputs": [
    {
     "name": "stdout",
     "output_type": "stream",
     "text": [
      "[40, 41, 42, 43, 43, 43, 44, 45, 46, 48, 48, 48, 49, 52, 56, 57, 58, 63, 66, 66, 67, 67, 68, 70, 71, 73, 73, 75, 75, 75, 76, 77, 77, 77, 78, 79, 80, 82, 84, 84, 85, 85, 85, 86, 86, 87, 88, 89, 90, 90, 90, 91, 91, 92, 92, 94, 94, 96, 98, 98, 98]\n",
      " Disticyion Students [75, 75, 75, 76, 77, 77, 77, 78, 79, 80, 82, 84, 84, 85, 85, 85, 86, 86, 87, 88, 89, 90, 90, 90, 91, 91, 92, 92, 94, 94, 96, 98, 98, 98]\n"
     ]
    }
   ],
   "source": [
    "stud=[]\n",
    "stud_dst=[]\n",
    "for stud1 in range(61):\n",
    "    stud.append(random.randint(40,100))\n",
    "    stud.sort()\n",
    "print(stud)\n",
    "\n",
    "for i in stud:\n",
    "    if (i>=75):\n",
    "        stud_dst.append(i)\n",
    "    else:\n",
    "        continue\n",
    "print(\" Disticyion Students\",stud_dst)\n",
    "        "
   ]
  },
  {
   "cell_type": "code",
   "execution_count": null,
   "metadata": {},
   "outputs": [],
   "source": [
    "COVID 19 check up search..\n",
    "1-100   total number of people in that colony\n",
    "6 to 90   Range should be collected.\n",
    "sort 6 - 90 age group..\n",
    " 50 & above Temp & BP check..\n",
    "    \n",
    "Checking has been done."
   ]
  },
  {
   "cell_type": "code",
   "execution_count": 59,
   "metadata": {},
   "outputs": [
    {
     "name": "stdout",
     "output_type": "stream",
     "text": [
      "[14, 31, 8, 28, 3, 6, 13, 26, 31, 14, 17, 23, 17, 9, 26, 25, 29, 4, 13, 1, 12, 8, 19, 22, 7, 9, 10, 7, 22, 11, 19, 16, 22, 19, 24, 16, 18, 5, 30, 19]\n"
     ]
    }
   ],
   "source": [
    "print(L)"
   ]
  },
  {
   "cell_type": "code",
   "execution_count": 70,
   "metadata": {},
   "outputs": [
    {
     "name": "stdout",
     "output_type": "stream",
     "text": [
      "[7, 9, 32, 32, 45, 53, 54, 76, 88, 93, 100, 110, 114, 151, 158, 158, 163, 171, 174, 174, 178, 211, 217, 224, 225, 238, 247, 261, 270, 283, 286, 287, 288, 303, 306, 316, 333, 358, 359, 364]\n"
     ]
    }
   ],
   "source": [
    "L.sort()\n",
    "print(L)"
   ]
  },
  {
   "cell_type": "code",
   "execution_count": 71,
   "metadata": {},
   "outputs": [
    {
     "name": "stdout",
     "output_type": "stream",
     "text": [
      "[113, 8, 185, 268, 245, 267, 204, 178, 100, 252, 316, 345, 111, 11, 43, 208, 189, 240, 275, 59, 253, 351, 259, 81, 26, 326, 68, 101, 23, 296, 365, 231, 319, 186, 293, 241, 149, 25, 53, 36, 251, 288, 284, 59, 308, 78, 61, 77, 63, 304, 199, 229, 122, 163, 346, 306, 5, 295, 202, 186]\n"
     ]
    }
   ],
   "source": [
    "import random\n",
    "l=[]\n",
    "for i in range (60):\n",
    "    l.append(random.randint(1,365))\n",
    "print(l)"
   ]
  },
  {
   "cell_type": "code",
   "execution_count": 21,
   "metadata": {},
   "outputs": [],
   "source": [
    "l.sort()"
   ]
  },
  {
   "cell_type": "code",
   "execution_count": 22,
   "metadata": {},
   "outputs": [
    {
     "name": "stdout",
     "output_type": "stream",
     "text": [
      "[1, 3, 13, 14, 20, 23, 28, 34, 63, 83, 88, 92, 98, 99, 106, 122, 122, 125, 128, 136, 150, 158, 170, 171, 175, 179, 181, 183, 194, 203, 205, 209, 224, 225, 227, 228, 233, 237, 239, 278, 280, 286, 286, 287, 287, 290, 294, 303, 310, 310, 311, 320, 344, 345, 348, 357, 357, 358, 361, 361]\n"
     ]
    }
   ],
   "source": [
    "print(l)"
   ]
  },
  {
   "cell_type": "code",
   "execution_count": 23,
   "metadata": {},
   "outputs": [
    {
     "data": {
      "text/plain": [
       "60"
      ]
     },
     "execution_count": 23,
     "metadata": {},
     "output_type": "execute_result"
    }
   ],
   "source": [
    "len(l)"
   ]
  },
  {
   "cell_type": "code",
   "execution_count": 24,
   "metadata": {},
   "outputs": [
    {
     "name": "stdout",
     "output_type": "stream",
     "text": [
      "[1, 3, 13, 14, 20, 23, 28, 34, 63, 83, 88, 92, 98, 99, 106, 122, 122, 125, 128, 136, 150, 158, 170, 171, 175, 179, 181, 183, 194, 203, 205, 209, 224, 225, 227, 228, 233, 237, 239, 278, 280, 286, 286, 287, 287, 290, 294, 303, 310, 310, 311, 320, 344, 345, 348, 357, 357, 358, 361, 361]\n"
     ]
    }
   ],
   "source": [
    "print(l)"
   ]
  },
  {
   "cell_type": "code",
   "execution_count": 72,
   "metadata": {},
   "outputs": [
    {
     "name": "stdout",
     "output_type": "stream",
     "text": [
      "[113, 8, 185, 268, 245, 267, 204, 178, 100, 252, 316, 345, 111, 11, 43, 208, 189, 240, 275, 59, 253, 351, 259, 81, 26, 326, 68, 101, 23, 296, 365, 231, 319, 186, 293, 241, 149, 25, 53, 36, 251, 288, 284, 59, 308, 78, 61, 77, 63, 304, 199, 229, 122, 163, 346, 306, 5, 295, 202, 186]\n"
     ]
    }
   ],
   "source": [
    "print(l)"
   ]
  },
  {
   "cell_type": "code",
   "execution_count": 26,
   "metadata": {},
   "outputs": [
    {
     "data": {
      "text/plain": [
       "60"
      ]
     },
     "execution_count": 26,
     "metadata": {},
     "output_type": "execute_result"
    }
   ],
   "source": [
    "len(l)"
   ]
  },
  {
   "cell_type": "code",
   "execution_count": 27,
   "metadata": {},
   "outputs": [
    {
     "ename": "SyntaxError",
     "evalue": "invalid syntax (<ipython-input-27-a67a4edcea8b>, line 1)",
     "output_type": "error",
     "traceback": [
      "\u001b[1;36m  File \u001b[1;32m\"<ipython-input-27-a67a4edcea8b>\"\u001b[1;36m, line \u001b[1;32m1\u001b[0m\n\u001b[1;33m    len function will give the total numbers inside the list..\u001b[0m\n\u001b[1;37m               ^\u001b[0m\n\u001b[1;31mSyntaxError\u001b[0m\u001b[1;31m:\u001b[0m invalid syntax\n"
     ]
    }
   ],
   "source": [
    "len function will give the total numbers inside the list..\n",
    "as we are running the loop up to 60, the elements in the list will be 60.\n",
    "\n",
    "as we are observing repetations here,...\n",
    "\n",
    "because of every 40-60 students there will be repetation of two birth dates of the students."
   ]
  }
 ],
 "metadata": {
  "kernelspec": {
   "display_name": "Python 3",
   "language": "python",
   "name": "python3"
  },
  "language_info": {
   "codemirror_mode": {
    "name": "ipython",
    "version": 3
   },
   "file_extension": ".py",
   "mimetype": "text/x-python",
   "name": "python",
   "nbconvert_exporter": "python",
   "pygments_lexer": "ipython3",
   "version": "3.6.5"
  }
 },
 "nbformat": 4,
 "nbformat_minor": 2
}
