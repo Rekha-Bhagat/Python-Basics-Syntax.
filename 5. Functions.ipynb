{
 "cells": [
  {
   "cell_type": "markdown",
   "metadata": {},
   "source": [
    "# Functions"
   ]
  },
  {
   "cell_type": "markdown",
   "metadata": {},
   "source": [
    "Functions allows us to create blocks of code that can be easily executed many times without needing to constantly rewrite the entire block of code.\n"
   ]
  },
  {
   "cell_type": "markdown",
   "metadata": {},
   "source": [
    "### def keyword"
   ]
  },
  {
   "cell_type": "markdown",
   "metadata": {},
   "source": [
    "1.name should be in lowercase. _ is allowed.\n",
    "2. (): comes at the end of the function.\n",
    "3. we can pass the parameters in the () as & when required.\n",
    "4.  : indicates the indented block started. \n"
   ]
  },
  {
   "cell_type": "code",
   "execution_count": 41,
   "metadata": {},
   "outputs": [],
   "source": [
    "def say_hello():\n",
    "    print(\"hello\")\n",
    "    print(\"how are \")\n",
    "    print(\"U\")"
   ]
  },
  {
   "cell_type": "code",
   "execution_count": 9,
   "metadata": {},
   "outputs": [
    {
     "name": "stdout",
     "output_type": "stream",
     "text": [
      "hello\n",
      "are \n",
      "U\n",
      "None\n"
     ]
    }
   ],
   "source": [
    "say_hello()\n",
    "# say_hello()"
   ]
  },
  {
   "cell_type": "code",
   "execution_count": null,
   "metadata": {},
   "outputs": [],
   "source": [
    "def my_funk():\n",
    "    print(\" Hello\")\n",
    "    print(\" I m \")                         # Function Body..\n",
    "    print(\" Learnin Python Functions\")\n",
    "    \n",
    "my_funk()   # Function Call"
   ]
  },
  {
   "cell_type": "markdown",
   "metadata": {},
   "source": [
    "#### Passing argument to the function."
   ]
  },
  {
   "cell_type": "code",
   "execution_count": 13,
   "metadata": {},
   "outputs": [
    {
     "name": "stdout",
     "output_type": "stream",
     "text": [
      "Answer:  50\n"
     ]
    }
   ],
   "source": [
    "def add():\n",
    "    a=20\n",
    "    b=30\n",
    "    c=a+b\n",
    "    print(\"Answer: \",c)\n",
    "add()"
   ]
  },
  {
   "cell_type": "code",
   "execution_count": 15,
   "metadata": {},
   "outputs": [
    {
     "name": "stdout",
     "output_type": "stream",
     "text": [
      "15\n"
     ]
    }
   ],
   "source": [
    "def add(a,b):\n",
    "    c=a+b\n",
    "    print(c)\n",
    "add(6,9)"
   ]
  },
  {
   "cell_type": "code",
   "execution_count": 16,
   "metadata": {},
   "outputs": [],
   "source": [
    "def say_hello(name):\n",
    "    print(f\"Hello {name}\")"
   ]
  },
  {
   "cell_type": "code",
   "execution_count": 17,
   "metadata": {},
   "outputs": [
    {
     "name": "stdout",
     "output_type": "stream",
     "text": [
      "Hello Kshama\n"
     ]
    }
   ],
   "source": [
    "say_hello('Kshama')  # if u dont pass the argument then it will give an error.\n"
   ]
  },
  {
   "cell_type": "code",
   "execution_count": 42,
   "metadata": {},
   "outputs": [
    {
     "name": "stdout",
     "output_type": "stream",
     "text": [
      "24\n"
     ]
    },
    {
     "data": {
      "text/plain": [
       "25"
      ]
     },
     "execution_count": 42,
     "metadata": {},
     "output_type": "execute_result"
    }
   ],
   "source": [
    "def add(num1,num2):\n",
    "    return num1+num2\n",
    "print(add(12,12))\n",
    "add(12,13)\n",
    "\n"
   ]
  },
  {
   "cell_type": "code",
   "execution_count": 34,
   "metadata": {},
   "outputs": [
    {
     "name": "stdout",
     "output_type": "stream",
     "text": [
      "5\n"
     ]
    }
   ],
   "source": [
    "def add(n1,n2):\n",
    "    ans=n1+n2\n",
    "    print(ans)\n",
    "add(2,3)\n",
    "\n",
    "#print(ans)"
   ]
  },
  {
   "cell_type": "code",
   "execution_count": 43,
   "metadata": {},
   "outputs": [
    {
     "name": "stdout",
     "output_type": "stream",
     "text": [
      "9\n"
     ]
    },
    {
     "ename": "TypeError",
     "evalue": "unsupported operand type(s) for +: 'NoneType' and 'int'",
     "output_type": "error",
     "traceback": [
      "\u001b[1;31m---------------------------------------------------------------------------\u001b[0m",
      "\u001b[1;31mTypeError\u001b[0m                                 Traceback (most recent call last)",
      "\u001b[1;32m<ipython-input-43-013459e9c911>\u001b[0m in \u001b[0;36m<module>\u001b[1;34m()\u001b[0m\n\u001b[0;32m      6\u001b[0m     \u001b[1;31m#return total\u001b[0m\u001b[1;33m\u001b[0m\u001b[1;33m\u001b[0m\u001b[0m\n\u001b[0;32m      7\u001b[0m \u001b[0mTotal_shopping\u001b[0m\u001b[1;33m=\u001b[0m\u001b[0mshop\u001b[0m\u001b[1;33m(\u001b[0m\u001b[1;36m2\u001b[0m\u001b[1;33m,\u001b[0m\u001b[1;36m3\u001b[0m\u001b[1;33m,\u001b[0m\u001b[1;36m4\u001b[0m\u001b[1;33m)\u001b[0m\u001b[1;33m\u001b[0m\u001b[0m\n\u001b[1;32m----> 8\u001b[1;33m \u001b[0mprint\u001b[0m\u001b[1;33m(\u001b[0m\u001b[0mTotal_shopping\u001b[0m\u001b[1;33m+\u001b[0m\u001b[1;36m25\u001b[0m\u001b[1;33m)\u001b[0m\u001b[1;33m\u001b[0m\u001b[0m\n\u001b[0m",
      "\u001b[1;31mTypeError\u001b[0m: unsupported operand type(s) for +: 'NoneType' and 'int'"
     ]
    }
   ],
   "source": [
    "# Go to shop of grossary.. and bye 3 items.\n",
    "# add total cost.. + GST(25)\n",
    "def shop(i1,i2,i3):\n",
    "    total=i1+i2+i3\n",
    "    print(total)\n",
    "    #return total\n",
    "Total_shopping=shop(2,3,4)\n",
    "print(Total_shopping+25)"
   ]
  },
  {
   "cell_type": "code",
   "execution_count": 39,
   "metadata": {},
   "outputs": [
    {
     "name": "stdout",
     "output_type": "stream",
     "text": [
      "6\n",
      "31\n"
     ]
    }
   ],
   "source": [
    "mylist=[2,3,5,6,7,8]\n",
    "print(len(mylist))\n",
    "print(sum(mylist))"
   ]
  },
  {
   "cell_type": "code",
   "execution_count": 40,
   "metadata": {},
   "outputs": [
    {
     "name": "stdout",
     "output_type": "stream",
     "text": [
      "2.0\n"
     ]
    }
   ],
   "source": [
    "def mean(mylist):  # mylist is a parameter is an input given to the function and it will produce an output.\n",
    "    the_mean=sum(mylist)/len(mylist)\n",
    "    return the_mean\n",
    "# this will do nothing as u didnot tell python to submit the answer by executeing the function.\n",
    "print(mean([1,2,3]))    "
   ]
  },
  {
   "cell_type": "code",
   "execution_count": 6,
   "metadata": {},
   "outputs": [
    {
     "name": "stdout",
     "output_type": "stream",
     "text": [
      "Enetr the marks of subject as per the given list 63\n",
      "Enetr the marks of subject as per the given list 63\n",
      "Enetr the marks of subject as per the given list 63\n",
      "Enetr the marks of subject as per the given list 63\n",
      "Enetr the marks of subject as per the given list 63\n",
      "Enetr the marks of subject as per the given list 63\n",
      "Enetr the marks of subject as per the given list 63\n"
     ]
    },
    {
     "data": {
      "text/plain": [
       "63.0"
      ]
     },
     "execution_count": 6,
     "metadata": {},
     "output_type": "execute_result"
    }
   ],
   "source": [
    "#enter 5 subject marks from the user..\n",
    "#Eng,Math, sci, marathi, Hindi,History, Geo.\n",
    "sub_marks=[]\n",
    "for i in range(1,8):\n",
    "    sub_marks.append(int(input(\"Enetr the marks of subject as per the given list \")))\n",
    "def percentage(sub_marks):\n",
    "    total=(sum(sub_marks)/len(sub_marks))\n",
    "    return total\n",
    "percentage(sub_marks)\n"
   ]
  },
  {
   "cell_type": "code",
   "execution_count": 4,
   "metadata": {},
   "outputs": [
    {
     "name": "stdout",
     "output_type": "stream",
     "text": [
      "1\n",
      "2\n",
      "3\n"
     ]
    }
   ],
   "source": [
    "# create the lengther function defination so that it returns the number of items for every input list.\n",
    "def lengther(lst):\n",
    "    for i in lst:\n",
    "        print(i)\n",
    "lengther([1,2,3])"
   ]
  },
  {
   "cell_type": "code",
   "execution_count": 5,
   "metadata": {},
   "outputs": [
    {
     "data": {
      "text/plain": [
       "10"
      ]
     },
     "execution_count": 5,
     "metadata": {},
     "output_type": "execute_result"
    }
   ],
   "source": [
    "# now check the items count\n",
    "def lengther(lst):\n",
    "    return len(lst)\n",
    "lengther([1,2,3,4,5,6,7,8,9,10])\n"
   ]
  },
  {
   "cell_type": "code",
   "execution_count": 14,
   "metadata": {},
   "outputs": [
    {
     "name": "stdout",
     "output_type": "stream",
     "text": [
      "Enter a number7\n",
      "49\n"
     ]
    }
   ],
   "source": [
    "# Define a function that calculates the area of square.\n",
    "def square(num):\n",
    "    ans_sqr=num*num\n",
    "    \n",
    "    return ans_sqr\n",
    "\n",
    "print(square(int(input(\"Enter a number\"))))"
   ]
  },
  {
   "cell_type": "code",
   "execution_count": 18,
   "metadata": {},
   "outputs": [
    {
     "name": "stdout",
     "output_type": "stream",
     "text": [
      "Enter a number5\n",
      "25\n",
      "None\n",
      "36\n",
      "None\n"
     ]
    },
    {
     "ename": "TypeError",
     "evalue": "unsupported operand type(s) for +: 'NoneType' and 'int'",
     "output_type": "error",
     "traceback": [
      "\u001b[1;31m---------------------------------------------------------------------------\u001b[0m",
      "\u001b[1;31mTypeError\u001b[0m                                 Traceback (most recent call last)",
      "\u001b[1;32m<ipython-input-18-f323930447fa>\u001b[0m in \u001b[0;36m<module>\u001b[1;34m()\u001b[0m\n\u001b[0;32m      7\u001b[0m \u001b[0mans2\u001b[0m\u001b[1;33m=\u001b[0m\u001b[0msquare\u001b[0m\u001b[1;33m(\u001b[0m\u001b[1;36m6\u001b[0m\u001b[1;33m)\u001b[0m\u001b[1;33m\u001b[0m\u001b[0m\n\u001b[0;32m      8\u001b[0m \u001b[0mprint\u001b[0m\u001b[1;33m(\u001b[0m\u001b[0mans2\u001b[0m\u001b[1;33m)\u001b[0m      \u001b[1;31m# it will not return any value in ans2 because function is not returning any value.\u001b[0m\u001b[1;33m\u001b[0m\u001b[0m\n\u001b[1;32m----> 9\u001b[1;33m \u001b[0mprint\u001b[0m\u001b[1;33m(\u001b[0m\u001b[0mans2\u001b[0m \u001b[1;33m+\u001b[0m \u001b[1;36m7\u001b[0m\u001b[1;33m)\u001b[0m    \u001b[1;31m# hence always use return statement in functions to get he futher calculations more effeiciently.\u001b[0m\u001b[1;33m\u001b[0m\u001b[0m\n\u001b[0m",
      "\u001b[1;31mTypeError\u001b[0m: unsupported operand type(s) for +: 'NoneType' and 'int'"
     ]
    }
   ],
   "source": [
    "def square(num):\n",
    "    ans_sqr=num*num\n",
    "    print(ans_sqr)\n",
    "    # return ans_sqr\n",
    "\n",
    "print(square(int(input(\"Enter a number\"))))\n",
    "ans2=square(6)\n",
    "print(ans2)      # it will not return any value in ans2 because function is not returning any value.\n",
    "print(ans2 + 7)    # hence always use return statement in functions to get he futher calculations more effeiciently.\n"
   ]
  },
  {
   "cell_type": "code",
   "execution_count": 23,
   "metadata": {},
   "outputs": [
    {
     "data": {
      "text/plain": [
       "147.86765"
      ]
     },
     "execution_count": 23,
     "metadata": {},
     "output_type": "execute_result"
    }
   ],
   "source": [
    "# Define a function that converts fluid ounces to ml knowing that 1 fluid ounce is equel to 29.57353 ml. \n",
    "def Fluid_parameter(ounces):\n",
    "    convertor=29.57353*ounces\n",
    "    return convertor\n",
    "Fluid_parameter(5)\n"
   ]
  },
  {
   "cell_type": "code",
   "execution_count": null,
   "metadata": {},
   "outputs": [],
   "source": []
  },
  {
   "cell_type": "code",
   "execution_count": null,
   "metadata": {},
   "outputs": [],
   "source": []
  },
  {
   "cell_type": "code",
   "execution_count": null,
   "metadata": {},
   "outputs": [],
   "source": [
    "## End of the Day."
   ]
  },
  {
   "cell_type": "markdown",
   "metadata": {},
   "source": [
    "#### Functions with conditional statements"
   ]
  },
  {
   "cell_type": "code",
   "execution_count": 19,
   "metadata": {},
   "outputs": [
    {
     "name": "stdout",
     "output_type": "stream",
     "text": [
      "1\n",
      "2\n",
      "3\n"
     ]
    }
   ],
   "source": []
  },
  {
   "cell_type": "code",
   "execution_count": 22,
   "metadata": {},
   "outputs": [
    {
     "ename": "TypeError",
     "evalue": "unsupported operand type(s) for +: 'int' and 'str'",
     "output_type": "error",
     "traceback": [
      "\u001b[1;31m---------------------------------------------------------------------------\u001b[0m",
      "\u001b[1;31mTypeError\u001b[0m                                 Traceback (most recent call last)",
      "\u001b[1;32m<ipython-input-22-bb86ae676052>\u001b[0m in \u001b[0;36m<module>\u001b[1;34m()\u001b[0m\n\u001b[0;32m      3\u001b[0m     \u001b[1;32mreturn\u001b[0m \u001b[0mthe_mean\u001b[0m\u001b[1;33m\u001b[0m\u001b[0m\n\u001b[0;32m      4\u001b[0m \u001b[0mstudent_grade\u001b[0m\u001b[1;33m=\u001b[0m\u001b[1;33m{\u001b[0m\u001b[1;34m\"marry\"\u001b[0m\u001b[1;33m:\u001b[0m \u001b[1;36m9.1\u001b[0m\u001b[1;33m,\u001b[0m\u001b[1;34m\"sun\"\u001b[0m\u001b[1;33m:\u001b[0m\u001b[1;36m8.8\u001b[0m\u001b[1;33m,\u001b[0m\u001b[1;34m\"John\"\u001b[0m\u001b[1;33m:\u001b[0m\u001b[1;36m7.5\u001b[0m\u001b[1;33m}\u001b[0m\u001b[1;33m\u001b[0m\u001b[0m\n\u001b[1;32m----> 5\u001b[1;33m \u001b[0mprint\u001b[0m\u001b[1;33m(\u001b[0m\u001b[0mmean\u001b[0m\u001b[1;33m(\u001b[0m\u001b[0mstudent_grade\u001b[0m\u001b[1;33m)\u001b[0m\u001b[1;33m)\u001b[0m\u001b[1;33m\u001b[0m\u001b[0m\n\u001b[0m",
      "\u001b[1;32m<ipython-input-22-bb86ae676052>\u001b[0m in \u001b[0;36mmean\u001b[1;34m(mylist)\u001b[0m\n\u001b[0;32m      1\u001b[0m \u001b[1;32mdef\u001b[0m \u001b[0mmean\u001b[0m\u001b[1;33m(\u001b[0m\u001b[0mmylist\u001b[0m\u001b[1;33m)\u001b[0m\u001b[1;33m:\u001b[0m  \u001b[1;31m# mylist is a parameter is an input given to the function and it will produce an output.\u001b[0m\u001b[1;33m\u001b[0m\u001b[0m\n\u001b[1;32m----> 2\u001b[1;33m     \u001b[0mthe_mean\u001b[0m\u001b[1;33m=\u001b[0m\u001b[0msum\u001b[0m\u001b[1;33m(\u001b[0m\u001b[0mmylist\u001b[0m\u001b[1;33m)\u001b[0m\u001b[1;33m/\u001b[0m\u001b[0mlen\u001b[0m\u001b[1;33m(\u001b[0m\u001b[0mmylist\u001b[0m\u001b[1;33m)\u001b[0m\u001b[1;33m\u001b[0m\u001b[0m\n\u001b[0m\u001b[0;32m      3\u001b[0m     \u001b[1;32mreturn\u001b[0m \u001b[0mthe_mean\u001b[0m\u001b[1;33m\u001b[0m\u001b[0m\n\u001b[0;32m      4\u001b[0m \u001b[0mstudent_grade\u001b[0m\u001b[1;33m=\u001b[0m\u001b[1;33m{\u001b[0m\u001b[1;34m\"marry\"\u001b[0m\u001b[1;33m:\u001b[0m \u001b[1;36m9.1\u001b[0m\u001b[1;33m,\u001b[0m\u001b[1;34m\"sun\"\u001b[0m\u001b[1;33m:\u001b[0m\u001b[1;36m8.8\u001b[0m\u001b[1;33m,\u001b[0m\u001b[1;34m\"John\"\u001b[0m\u001b[1;33m:\u001b[0m\u001b[1;36m7.5\u001b[0m\u001b[1;33m}\u001b[0m\u001b[1;33m\u001b[0m\u001b[0m\n\u001b[0;32m      5\u001b[0m \u001b[0mprint\u001b[0m\u001b[1;33m(\u001b[0m\u001b[0mmean\u001b[0m\u001b[1;33m(\u001b[0m\u001b[0mstudent_grade\u001b[0m\u001b[1;33m)\u001b[0m\u001b[1;33m)\u001b[0m\u001b[1;33m\u001b[0m\u001b[0m\n",
      "\u001b[1;31mTypeError\u001b[0m: unsupported operand type(s) for +: 'int' and 'str'"
     ]
    }
   ],
   "source": [
    "def mean(mylist):  # mylist is a parameter is an input given to the function and it will produce an output.\n",
    "    the_mean=sum(mylist)/len(mylist)\n",
    "    return the_mean\n",
    "student_grade={\"marry\": 9.1,\"sun\":8.8,\"John\":7.5}\n",
    "print(mean(student_grade))\n",
    "# it will give a type erroe as Dict is not supported for above line of code of function.\n",
    "# we have to code it like that it will support both Dict & list as well"
   ]
  },
  {
   "cell_type": "code",
   "execution_count": null,
   "metadata": {},
   "outputs": [],
   "source": []
  }
 ],
 "metadata": {
  "kernelspec": {
   "display_name": "Python 3",
   "language": "python",
   "name": "python3"
  },
  "language_info": {
   "codemirror_mode": {
    "name": "ipython",
    "version": 3
   },
   "file_extension": ".py",
   "mimetype": "text/x-python",
   "name": "python",
   "nbconvert_exporter": "python",
   "pygments_lexer": "ipython3",
   "version": "3.6.5"
  }
 },
 "nbformat": 4,
 "nbformat_minor": 2
}
