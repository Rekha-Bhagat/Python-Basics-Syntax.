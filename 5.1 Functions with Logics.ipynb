{
 "cells": [
  {
   "cell_type": "markdown",
   "metadata": {},
   "source": [
    "##### Write a program using Function that will saperate the even and odd values."
   ]
  },
  {
   "cell_type": "code",
   "execution_count": 1,
   "metadata": {},
   "outputs": [
    {
     "data": {
      "text/plain": [
       "False"
      ]
     },
     "execution_count": 1,
     "metadata": {},
     "output_type": "execute_result"
    }
   ],
   "source": [
    "def even_chk(num):\n",
    "    result= num%2==0\n",
    "    return result \n",
    "    \n",
    "even_chk(21)\n",
    "\n",
    "# we can reduce the code by minimizing the statements.\n"
   ]
  },
  {
   "cell_type": "code",
   "execution_count": 7,
   "metadata": {},
   "outputs": [
    {
     "data": {
      "text/plain": [
       "True"
      ]
     },
     "execution_count": 7,
     "metadata": {},
     "output_type": "execute_result"
    }
   ],
   "source": [
    "def even_chk(num):\n",
    "    return num%2==0\n",
    "even_chk(8)"
   ]
  },
  {
   "cell_type": "code",
   "execution_count": 9,
   "metadata": {},
   "outputs": [],
   "source": [
    "# Def inside a list\n",
    "# Return a function if the number is even inside a list\n",
    "\n",
    "def chk_even_num(list1):\n",
    "    \n",
    "    for num in list1:\n",
    "        if num%2==0:\n",
    "            return True\n",
    "        else:\n",
    "            pass\n",
    "chk_even_num([1,2,3,4,5,6,7,8,9,10])\n",
    "chk_even_num([3,5,7])\n",
    "\n",
    "# to print when it will be false.. then in else statement also if write return False\n",
    "\n"
   ]
  },
  {
   "cell_type": "code",
   "execution_count": null,
   "metadata": {},
   "outputs": [],
   "source": []
  },
  {
   "cell_type": "code",
   "execution_count": 14,
   "metadata": {},
   "outputs": [
    {
     "name": "stdout",
     "output_type": "stream",
     "text": [
      "True\n"
     ]
    },
    {
     "data": {
      "text/plain": [
       "False"
      ]
     },
     "execution_count": 14,
     "metadata": {},
     "output_type": "execute_result"
    }
   ],
   "source": [
    "def chk_even_num(list1):\n",
    "    \n",
    "    for num in list1:\n",
    "        if num%2==0:\n",
    "            return True\n",
    "        else:\n",
    "            return False      # ites wrong... \n",
    "print(chk_even_num([2,3,4,5,6,7,8,9,10]))\n",
    "chk_even_num([3,5,7])\n",
    "\n",
    "# Because if first number i the list is o"
   ]
  },
  {
   "cell_type": "code",
   "execution_count": 2,
   "metadata": {},
   "outputs": [],
   "source": [
    "even=[]\n",
    "odd=[]\n",
    "def even_odd(list2):\n",
    "    for i in list2:\n",
    "        if i%2==0:\n",
    "            even.append(i)\n",
    "        else:\n",
    "            odd.append(i)\n",
    "even_odd([22,55,26,24,59,85,78,100])\n",
    "print(\"Even Number List: \",even)\n",
    "print(\"Odd Number List: \",odd)\n",
    "        "
   ]
  },
  {
   "cell_type": "code",
   "execution_count": 1,
   "metadata": {},
   "outputs": [
    {
     "name": "stdout",
     "output_type": "stream",
     "text": [
      "enetr First Number10\n",
      "Enetr Second Number 5\n",
      "Enter your choiceL: (+,-,*,/)+\n",
      " You have selected Addition: \n",
      "15\n",
      "Enter your choiceL: (+,-,*,/) \n",
      "You have not selected Wrong choice...\n"
     ]
    }
   ],
   "source": [
    "# write a program to do addition subtraction multiplication and div with only 2 variables.\n",
    "# 1. add(a,b)\n",
    "# 2. sub(a,b)\n",
    "# 3. mul(a,b)\n",
    "# 4. Div\n",
    "\n",
    "# ask user first to perform a function as per user choice.\n",
    "a=int(input(\"enetr First Number\"))\n",
    "b=int(input(\"Enetr Second Number \"))\n",
    "def add(a,b):\n",
    "    return a+b\n",
    "def sub(a,b):\n",
    "    return a-b\n",
    "def mul(a,b):\n",
    "    return a*b\n",
    "def div(a,b):\n",
    "    return a/b\n",
    "while True:\n",
    "    choice=(input(\"Enter your choiceL: (+,-,*,/)   :  \"))\n",
    "    if choice=='+':\n",
    "        print(\" You have selected Addition: \")\n",
    "        add(a,b)\n",
    "        print(add(a,b))\n",
    "    elif choice=='-':\n",
    "        print(\" You have selected Subtraction: \")\n",
    "        sub(a,b)\n",
    "        print(sub(a,b))\n",
    "    elif choice=='*':\n",
    "        print(\" You have selected Multiplication: \")\n",
    "        mul(a,b)\n",
    "        print(mul(a,b))\n",
    "    elif choice=='/':\n",
    "        print(\" You have selected Division: \")\n",
    "        div(a,b)\n",
    "        print(div(a,b))\n",
    "    else:\n",
    "        print(\"You have not selected Wrong choice...\")\n",
    "        break\n"
   ]
  },
  {
   "cell_type": "code",
   "execution_count": 5,
   "metadata": {},
   "outputs": [],
   "source": [
    "# Now instead of Even and Odd number list print actual even list.\n"
   ]
  },
  {
   "cell_type": "markdown",
   "metadata": {},
   "source": [
    "#### Arbitrary Arguments, *args\n",
    "If you do not know how many arguments that will be passed into your function, add a * before the parameter name in the function definition.\n",
    "\n",
    "This way the function will receive a tuple of arguments, and can access the items accordingly:\n",
    "\n"
   ]
  },
  {
   "cell_type": "code",
   "execution_count": 6,
   "metadata": {},
   "outputs": [
    {
     "name": "stdout",
     "output_type": "stream",
     "text": [
      "The youngest child is Tobias\n"
     ]
    }
   ],
   "source": [
    "#If the number of arguments is unknown, add a * before the parameter name:\n",
    "\n",
    "\n",
    "def my_function(*kids):\n",
    "  print(\"The youngest child is \" + kids[1])\n",
    "\n",
    "my_function(\"Emil\", \"Tobias\", \"Linus\")"
   ]
  },
  {
   "cell_type": "markdown",
   "metadata": {},
   "source": [
    "#### Programs for Practice"
   ]
  },
  {
   "cell_type": "markdown",
   "metadata": {},
   "source": [
    "Exercise Question 3: Write a function calculation() such that it can accept two variables and calculate the addition and subtraction of it. And also it must return both addition and subtraction in a single return call\n"
   ]
  },
  {
   "cell_type": "code",
   "execution_count": 5,
   "metadata": {},
   "outputs": [
    {
     "data": {
      "text/plain": [
       "(50, 30)"
      ]
     },
     "execution_count": 5,
     "metadata": {},
     "output_type": "execute_result"
    }
   ],
   "source": [
    "def calculation(a, b):\n",
    "    return a+b, a-b\n",
    "\n",
    "calculation(40, 10)\n",
    "#print(res)"
   ]
  },
  {
   "cell_type": "markdown",
   "metadata": {},
   "source": [
    "Exercise Question 4: Create a function showEmployee() in such a way that it should accept employee name, and it’s salary and display both, and if the salary is missing in function call it should show it as 9000\n"
   ]
  },
  {
   "cell_type": "code",
   "execution_count": null,
   "metadata": {},
   "outputs": [],
   "source": []
  },
  {
   "cell_type": "markdown",
   "metadata": {},
   "source": [
    "Exercise Question 6: Write a recursive function to calculate the sum of numbers from 0 to 10"
   ]
  },
  {
   "cell_type": "code",
   "execution_count": null,
   "metadata": {},
   "outputs": [],
   "source": []
  },
  {
   "cell_type": "markdown",
   "metadata": {},
   "source": [
    "Exercise Question 7: Assign a different name to function and call it through the new name"
   ]
  },
  {
   "cell_type": "code",
   "execution_count": null,
   "metadata": {},
   "outputs": [],
   "source": []
  },
  {
   "cell_type": "markdown",
   "metadata": {},
   "source": [
    "Exercise Question 8: Generate a Python list of all the even numbers between 4 to 30"
   ]
  },
  {
   "cell_type": "code",
   "execution_count": 5,
   "metadata": {},
   "outputs": [
    {
     "name": "stdout",
     "output_type": "stream",
     "text": [
      "Even Number List:  [22, 26, 24, 78, 100]\n",
      "Odd Number List:  [55, 59, 85]\n"
     ]
    }
   ],
   "source": [
    "# Write a program to find the even numbers and odd numbers from the list using Function\n"
   ]
  },
  {
   "cell_type": "code",
   "execution_count": null,
   "metadata": {},
   "outputs": [],
   "source": []
  }
 ],
 "metadata": {
  "kernelspec": {
   "display_name": "Python 3",
   "language": "python",
   "name": "python3"
  },
  "language_info": {
   "codemirror_mode": {
    "name": "ipython",
    "version": 3
   },
   "file_extension": ".py",
   "mimetype": "text/x-python",
   "name": "python",
   "nbconvert_exporter": "python",
   "pygments_lexer": "ipython3",
   "version": "3.6.5"
  }
 },
 "nbformat": 4,
 "nbformat_minor": 2
}
