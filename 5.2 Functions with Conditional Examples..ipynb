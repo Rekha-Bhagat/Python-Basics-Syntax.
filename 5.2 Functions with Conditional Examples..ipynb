{
 "cells": [
  {
   "cell_type": "markdown",
   "metadata": {},
   "source": [
    "#### If Conditional Statement"
   ]
  },
  {
   "cell_type": "markdown",
   "metadata": {},
   "source": [
    "we can define a function by passing a list as an argument.\n",
    "but what if we pass the Dictionary items as an arguments??"
   ]
  },
  {
   "cell_type": "code",
   "execution_count": 1,
   "metadata": {},
   "outputs": [
    {
     "ename": "TypeError",
     "evalue": "unsupported operand type(s) for +: 'int' and 'str'",
     "output_type": "error",
     "traceback": [
      "\u001b[1;31m---------------------------------------------------------------------------\u001b[0m",
      "\u001b[1;31mTypeError\u001b[0m                                 Traceback (most recent call last)",
      "\u001b[1;32m<ipython-input-1-2a46e3fd4461>\u001b[0m in \u001b[0;36m<module>\u001b[1;34m()\u001b[0m\n\u001b[0;32m      3\u001b[0m     \u001b[1;32mreturn\u001b[0m \u001b[0mthe_mean\u001b[0m\u001b[1;33m\u001b[0m\u001b[0m\n\u001b[0;32m      4\u001b[0m \u001b[0mstud_grade\u001b[0m\u001b[1;33m=\u001b[0m\u001b[1;33m{\u001b[0m\u001b[1;34m\"marry\"\u001b[0m\u001b[1;33m:\u001b[0m\u001b[1;36m9.1\u001b[0m\u001b[1;33m,\u001b[0m\u001b[1;34m\"Chandu\"\u001b[0m\u001b[1;33m:\u001b[0m\u001b[1;36m8.6\u001b[0m\u001b[1;33m,\u001b[0m\u001b[1;34m\"Rahat\"\u001b[0m\u001b[1;33m:\u001b[0m\u001b[1;36m9.6\u001b[0m\u001b[1;33m}\u001b[0m\u001b[1;33m\u001b[0m\u001b[0m\n\u001b[1;32m----> 5\u001b[1;33m \u001b[0mprint\u001b[0m\u001b[1;33m(\u001b[0m\u001b[0mmean\u001b[0m\u001b[1;33m(\u001b[0m\u001b[0mstud_grade\u001b[0m\u001b[1;33m)\u001b[0m\u001b[1;33m)\u001b[0m\u001b[1;33m\u001b[0m\u001b[0m\n\u001b[0m",
      "\u001b[1;32m<ipython-input-1-2a46e3fd4461>\u001b[0m in \u001b[0;36mmean\u001b[1;34m(mylist)\u001b[0m\n\u001b[0;32m      1\u001b[0m \u001b[1;32mdef\u001b[0m \u001b[0mmean\u001b[0m\u001b[1;33m(\u001b[0m\u001b[0mmylist\u001b[0m\u001b[1;33m)\u001b[0m\u001b[1;33m:\u001b[0m\u001b[1;33m\u001b[0m\u001b[0m\n\u001b[1;32m----> 2\u001b[1;33m     \u001b[0mthe_mean\u001b[0m\u001b[1;33m=\u001b[0m\u001b[0msum\u001b[0m\u001b[1;33m(\u001b[0m\u001b[0mmylist\u001b[0m\u001b[1;33m)\u001b[0m\u001b[1;33m/\u001b[0m\u001b[0mlen\u001b[0m\u001b[1;33m(\u001b[0m\u001b[0mmylist\u001b[0m\u001b[1;33m)\u001b[0m\u001b[1;33m\u001b[0m\u001b[0m\n\u001b[0m\u001b[0;32m      3\u001b[0m     \u001b[1;32mreturn\u001b[0m \u001b[0mthe_mean\u001b[0m\u001b[1;33m\u001b[0m\u001b[0m\n\u001b[0;32m      4\u001b[0m \u001b[0mstud_grade\u001b[0m\u001b[1;33m=\u001b[0m\u001b[1;33m{\u001b[0m\u001b[1;34m\"marry\"\u001b[0m\u001b[1;33m:\u001b[0m\u001b[1;36m9.1\u001b[0m\u001b[1;33m,\u001b[0m\u001b[1;34m\"Chandu\"\u001b[0m\u001b[1;33m:\u001b[0m\u001b[1;36m8.6\u001b[0m\u001b[1;33m,\u001b[0m\u001b[1;34m\"Rahat\"\u001b[0m\u001b[1;33m:\u001b[0m\u001b[1;36m9.6\u001b[0m\u001b[1;33m}\u001b[0m\u001b[1;33m\u001b[0m\u001b[0m\n\u001b[0;32m      5\u001b[0m \u001b[0mprint\u001b[0m\u001b[1;33m(\u001b[0m\u001b[0mmean\u001b[0m\u001b[1;33m(\u001b[0m\u001b[0mstud_grade\u001b[0m\u001b[1;33m)\u001b[0m\u001b[1;33m)\u001b[0m\u001b[1;33m\u001b[0m\u001b[0m\n",
      "\u001b[1;31mTypeError\u001b[0m: unsupported operand type(s) for +: 'int' and 'str'"
     ]
    }
   ],
   "source": [
    "def mean(mylist):\n",
    "    the_mean=sum(mylist)/len(mylist)\n",
    "    return the_mean\n",
    "stud_grade={\"marry\":9.1,\"Chandu\":8.6,\"Rahat\":9.6}\n",
    "print(mean(stud_grade))"
   ]
  },
  {
   "cell_type": "markdown",
   "metadata": {},
   "source": [
    "It is giving an error because string names can not be added by sum functions..\n",
    "so to make our program flexible so that it will take Dict and list items as well.\n"
   ]
  },
  {
   "cell_type": "markdown",
   "metadata": {},
   "source": [
    "We can do this by using Conditional Statement ..\n",
    "we need to pick the values from the Key_Value Pair if its a dictionary. and if its not so then directly pic the values fro the List"
   ]
  },
  {
   "cell_type": "code",
   "execution_count": 10,
   "metadata": {},
   "outputs": [
    {
     "name": "stdout",
     "output_type": "stream",
     "text": [
      "9.1\n",
      "26.8425\n"
     ]
    }
   ],
   "source": [
    "def mean(value):\n",
    "    if type(value)==dict:\n",
    "        The_mean=sum(value.values())/len(value)\n",
    "    else:\n",
    "        The_mean=sum(value)/len(value)\n",
    "    return The_mean\n",
    "stud_grade={\"marry\":9.1,\"Chandu\":8.6,\"Rahat\":9.6}\n",
    "Monday_temp=[23.56,36.45,21.24,26.12]\n",
    "print(mean(stud_grade))\n",
    "print(mean(Monday_temp))\n"
   ]
  },
  {
   "cell_type": "markdown",
   "metadata": {},
   "source": [
    "#### Password Controller"
   ]
  },
  {
   "cell_type": "markdown",
   "metadata": {},
   "source": [
    "Define a function that\n",
    "1. takes a string as parameter.\n",
    "2. returns False if the string contains less than 8 characters.\n",
    "3. returns True if the string contains 8 or more characters.\n"
   ]
  },
  {
   "cell_type": "code",
   "execution_count": 13,
   "metadata": {},
   "outputs": [
    {
     "name": "stdout",
     "output_type": "stream",
     "text": [
      "Enter your String: kkkkk\n"
     ]
    },
    {
     "data": {
      "text/plain": [
       "False"
      ]
     },
     "execution_count": 13,
     "metadata": {},
     "output_type": "execute_result"
    }
   ],
   "source": [
    "def foo(str1):\n",
    "    if (len(str1)<=8):\n",
    "        return False\n",
    "    else:\n",
    "        return True\n",
    "str1=input(\"Enter your String: \")\n",
    "foo(str1)"
   ]
  },
  {
   "cell_type": "markdown",
   "metadata": {},
   "source": [
    "Define a Function that.\n",
    "1. takes a temprature as parameters\n",
    "2. return warm if the temp is greater than 7\n",
    "3. return Cold if the temp is equal or less than 7.\n"
   ]
  },
  {
   "cell_type": "code",
   "execution_count": 14,
   "metadata": {},
   "outputs": [
    {
     "data": {
      "text/plain": [
       "'Warm'"
      ]
     },
     "execution_count": 14,
     "metadata": {},
     "output_type": "execute_result"
    }
   ],
   "source": [
    "def foo(temp):\n",
    "    if temp<=7:\n",
    "        return \"Cold\"\n",
    "    else: \n",
    "        return \"Warm\"\n",
    "foo(8)"
   ]
  },
  {
   "cell_type": "markdown",
   "metadata": {},
   "source": [
    "Define a Function that:\n",
    "    1. takes temp as parameter.\n",
    "    2. returns Hot if the temp is greater than 25.\n",
    "    3. returns id temp is between 15 & 25 including 15 & 25.\n",
    "    "
   ]
  },
  {
   "cell_type": "code",
   "execution_count": 17,
   "metadata": {},
   "outputs": [
    {
     "data": {
      "text/plain": [
       "'Hot'"
      ]
     },
     "execution_count": 17,
     "metadata": {},
     "output_type": "execute_result"
    }
   ],
   "source": [
    "def foo(temp):\n",
    "    if (temp > 25):\n",
    "        return \"Hot\"\n",
    "    elif (temp>=15 and temp<=25):\n",
    "        return \"worm\"\n",
    "    else:\n",
    "        pass\n",
    "foo(26)"
   ]
  },
  {
   "cell_type": "markdown",
   "metadata": {},
   "source": [
    "### The basics: Processing User Inputs"
   ]
  },
  {
   "cell_type": "markdown",
   "metadata": {},
   "source": [
    "We use a function but who gives the input to the functions. is the main question come in our mind.\n",
    "U as a programmer write a function for someone else user..\n",
    "How to prompt user to take the input for function.\n"
   ]
  },
  {
   "cell_type": "code",
   "execution_count": 19,
   "metadata": {},
   "outputs": [],
   "source": [
    "# def temprature(temp):\n",
    "# do it as an exercise."
   ]
  },
  {
   "cell_type": "markdown",
   "metadata": {},
   "source": []
  }
 ],
 "metadata": {
  "kernelspec": {
   "display_name": "Python 3",
   "language": "python",
   "name": "python3"
  },
  "language_info": {
   "codemirror_mode": {
    "name": "ipython",
    "version": 3
   },
   "file_extension": ".py",
   "mimetype": "text/x-python",
   "name": "python",
   "nbconvert_exporter": "python",
   "pygments_lexer": "ipython3",
   "version": "3.6.5"
  }
 },
 "nbformat": 4,
 "nbformat_minor": 2
}
