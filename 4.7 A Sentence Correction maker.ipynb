{
 "cells": [
  {
   "cell_type": "markdown",
   "metadata": {},
   "source": [
    "# A Data Science Basic Text Editing Program.\n",
    "\n",
    "\n"
   ]
  },
  {
   "cell_type": "markdown",
   "metadata": {},
   "source": [
    "###### Problem Statement"
   ]
  },
  {
   "cell_type": "raw",
   "metadata": {},
   "source": [
    "A user should be asked for :\n",
    "    \n",
    "Say Something: (If he prints :) weather is Good Today.\n",
    "Say Something: is it Cloudy today...?\n",
    "Say something : there is sunny Day..\n",
    "Say Something : \\end   # this should end the program..\n",
    "    \n",
    "    & it should print all above statement with all exlametry , question marks n all...automatically capitalize the first letter.\n",
    "    \n",
    "    "
   ]
  },
  {
   "cell_type": "raw",
   "metadata": {},
   "source": [
    "str1=''\n",
    "list1=[] \n",
    "while True:\n",
    "    if str1 == '\\end':\n",
    "        break\n",
    "    else: \n",
    "        str1=input(\"Say Something: \")\n",
    "        list1.append(str1)\n",
    "print (list1)"
   ]
  },
  {
   "cell_type": "code",
   "execution_count": 1,
   "metadata": {},
   "outputs": [
    {
     "data": {
      "text/plain": [
       "'How r u'"
      ]
     },
     "execution_count": 1,
     "metadata": {},
     "output_type": "execute_result"
    }
   ],
   "source": [
    "#But we want it should capitalize first letter , ? and all..\n",
    "#so lets do some excersize for it.\n",
    "\"how r u\".capitalize()  # will make first letter capitalize.\n"
   ]
  },
  {
   "cell_type": "code",
   "execution_count": 2,
   "metadata": {},
   "outputs": [
    {
     "data": {
      "text/plain": [
       "True"
      ]
     },
     "execution_count": 2,
     "metadata": {},
     "output_type": "execute_result"
    }
   ],
   "source": [
    "\"what are you doing\".startswith((\"how\",\"what\",\"why\"))"
   ]
  },
  {
   "cell_type": "markdown",
   "metadata": {},
   "source": [
    "### Building the Maker Function"
   ]
  },
  {
   "cell_type": "code",
   "execution_count": 9,
   "metadata": {},
   "outputs": [
    {
     "name": "stdout",
     "output_type": "stream",
     "text": [
      "Say Something : what are u doing\n",
      "Say Something : i m good\n",
      "Say Something : \\end\n",
      "['What are u doing?', 'I m good.']\n",
      "\n",
      "\n",
      "\n",
      "What are u doing? I m good.\n"
     ]
    }
   ],
   "source": [
    "def sentence_maker(phrase):   # prase will contain ur statement accepted by the user.\n",
    "    introgatives=(\"how\",\"what\",\"why\")    # var that will keep questions hit words.\n",
    "    capitalized=phrase.capitalize()\n",
    "    if phrase.startswith(introgatives):\n",
    "        return \"{}?\".format(capitalized)\n",
    "    else:\n",
    "        return \"{}.\".format(capitalized)\n",
    "result=[]\n",
    "#print(sentence_maker(\"how are You\"))\n",
    "while True:\n",
    "    user_input=input(\"Say Something : \")\n",
    "    if user_input == '\\end':\n",
    "        break\n",
    "    else: \n",
    "        result.append(sentence_maker(user_input))\n",
    "print (result)   # This will print it like lsit items.. we dont want it like that, instead we will use join function with space as character to joi two strings.\n",
    "print(\"\\n\\n\")\n",
    "print(\" \".join(result))"
   ]
  },
  {
   "cell_type": "markdown",
   "metadata": {},
   "source": []
  },
  {
   "cell_type": "code",
   "execution_count": null,
   "metadata": {},
   "outputs": [],
   "source": []
  },
  {
   "cell_type": "code",
   "execution_count": null,
   "metadata": {},
   "outputs": [],
   "source": []
  },
  {
   "cell_type": "code",
   "execution_count": null,
   "metadata": {},
   "outputs": [],
   "source": []
  }
 ],
 "metadata": {
  "kernelspec": {
   "display_name": "Python 3",
   "language": "python",
   "name": "python3"
  },
  "language_info": {
   "codemirror_mode": {
    "name": "ipython",
    "version": 3
   },
   "file_extension": ".py",
   "mimetype": "text/x-python",
   "name": "python",
   "nbconvert_exporter": "python",
   "pygments_lexer": "ipython3",
   "version": "3.6.5"
  }
 },
 "nbformat": 4,
 "nbformat_minor": 2
}
