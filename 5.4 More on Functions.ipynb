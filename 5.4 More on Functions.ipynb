{
 "cells": [
  {
   "cell_type": "markdown",
   "metadata": {},
   "source": [
    "### How to create multiple functions with multiple arguments.\n"
   ]
  },
  {
   "cell_type": "code",
   "execution_count": 2,
   "metadata": {},
   "outputs": [
    {
     "name": "stdout",
     "output_type": "stream",
     "text": [
      "10\n"
     ]
    }
   ],
   "source": [
    "def area(a,b):   # parameter when we defne a function\n",
    "                 # when we call the function it passes the values as an argument  \n",
    "    return a*b\n",
    "print(area(2,5))\n",
    "    "
   ]
  },
  {
   "cell_type": "markdown",
   "metadata": {},
   "source": [
    " Implement a functio that takes two strings as an arguments and concatinates them, Returns a Value."
   ]
  },
  {
   "cell_type": "code",
   "execution_count": 3,
   "metadata": {},
   "outputs": [
    {
     "data": {
      "text/plain": [
       "'Kshama_Kulkarni'"
      ]
     },
     "execution_count": 3,
     "metadata": {},
     "output_type": "execute_result"
    }
   ],
   "source": [
    "def foo(str1,str2):\n",
    "    return str1+str2\n",
    "foo(\"Kshama_\",\"Kulkarni\")"
   ]
  },
  {
   "cell_type": "markdown",
   "metadata": {},
   "source": [
    "### Keyword & Non Keyword Arguments"
   ]
  },
  {
   "cell_type": "code",
   "execution_count": 4,
   "metadata": {},
   "outputs": [
    {
     "data": {
      "text/plain": [
       "21"
      ]
     },
     "execution_count": 4,
     "metadata": {},
     "output_type": "execute_result"
    }
   ],
   "source": [
    "def area(a,b):\n",
    "    return a*b\n",
    "area(4,5)       # Non keyword Arguments also called as Positional Arguments.\n",
    "                # position of Parameters matters while passing it as an arguments\n",
    "area(a=3,b=7)   # keyword arguments  a & b are called as keywords.. hence position of the parameters doesn't matter..\n"
   ]
  },
  {
   "cell_type": "markdown",
   "metadata": {},
   "source": [
    "### Default parameter & Non Default parmeter."
   ]
  },
  {
   "cell_type": "code",
   "execution_count": 6,
   "metadata": {},
   "outputs": [
    {
     "name": "stdout",
     "output_type": "stream",
     "text": [
      "63\n",
      "6\n"
     ]
    }
   ],
   "source": [
    "def area(a,b=9):\n",
    "    return a*b\n",
    "print(area(a=7))   # as value of b is given no need to pass it again.. \n",
    "    # hence called as a default parameter of the function.\n",
    "print(area(2,3))   # u can pass value of b and change it as well.  \n",
    "# hence a is non default parameter & b is default parameter.\n"
   ]
  },
  {
   "cell_type": "code",
   "execution_count": 7,
   "metadata": {},
   "outputs": [],
   "source": [
    "# But u can not do like as follows."
   ]
  },
  {
   "cell_type": "code",
   "execution_count": 9,
   "metadata": {},
   "outputs": [
    {
     "ename": "SyntaxError",
     "evalue": "unexpected EOF while parsing (<ipython-input-9-561ffd28ccd8>, line 4)",
     "output_type": "error",
     "traceback": [
      "\u001b[1;36m  File \u001b[1;32m\"<ipython-input-9-561ffd28ccd8>\"\u001b[1;36m, line \u001b[1;32m4\u001b[0m\n\u001b[1;33m    \u001b[0m\n\u001b[1;37m    ^\u001b[0m\n\u001b[1;31mSyntaxError\u001b[0m\u001b[1;31m:\u001b[0m unexpected EOF while parsing\n"
     ]
    }
   ],
   "source": [
    "def area(a=8,b):  \n",
    "    # First we shall submit Non-default Parmeter.. \n",
    "    # then we should pass default parameters.\n",
    "     "
   ]
  },
  {
   "cell_type": "markdown",
   "metadata": {},
   "source": [
    "### Functions with Arbitory number of Non-Keyword arguments.\n"
   ]
  },
  {
   "cell_type": "code",
   "execution_count": 14,
   "metadata": {},
   "outputs": [
    {
     "name": "stdout",
     "output_type": "stream",
     "text": [
      "2.0\n",
      "5.0\n"
     ]
    }
   ],
   "source": [
    "def mean(*args):   #  * means any number of arguments u can pass at the time of function call\n",
    "    return sum(args)/len(args)\n",
    "print(mean(1,2,3) )\n",
    "print(mean(2,4,6,8))\n"
   ]
  },
  {
   "cell_type": "code",
   "execution_count": 15,
   "metadata": {},
   "outputs": [
    {
     "data": {
      "text/plain": [
       "25.0"
      ]
     },
     "execution_count": 15,
     "metadata": {},
     "output_type": "execute_result"
    }
   ],
   "source": [
    "def foo(*args):\n",
    "    return sum(args)/len(args)\n",
    "foo(10,20,30,40)"
   ]
  },
  {
   "cell_type": "markdown",
   "metadata": {},
   "source": [
    "define a function that takes an indefinite number of strings as parameters\n",
    "and return a list of containing all the strings in UPPER case and sorted alphabetically. for Eg. if I called your function with foo(\"snow\",\"air\",\"Water\")\n",
    "it should return[\"AIR\",\"SMOW\",\"WATER\"]\n"
   ]
  },
  {
   "cell_type": "code",
   "execution_count": 26,
   "metadata": {},
   "outputs": [
    {
     "data": {
      "text/plain": [
       "['AIR', 'SNOW', 'WATER']"
      ]
     },
     "execution_count": 26,
     "metadata": {},
     "output_type": "execute_result"
    }
   ],
   "source": [
    "def foo(*args):\n",
    "    args = [x.upper() for x in args]  # save it in to a list ..\n",
    "    return sorted(args)  # apply sorted function on it\n",
    "foo(\"snow\",\"air\",\"water\") "
   ]
  },
  {
   "cell_type": "markdown",
   "metadata": {},
   "source": [
    "The sorted() function returns a sorted list of the specified iterable object.\n",
    "\n",
    "You can specify ascending or descending order. Strings are sorted alphabetically, and numbers are sorted numerically.\n",
    "\n"
   ]
  },
  {
   "cell_type": "markdown",
   "metadata": {},
   "source": [
    "#### Functions with Arbitari number of Keyword Arguments..."
   ]
  },
  {
   "cell_type": "code",
   "execution_count": 1,
   "metadata": {},
   "outputs": [
    {
     "data": {
      "text/plain": [
       "{'a': 1, 'b': 2, 'c': 3}"
      ]
     },
     "execution_count": 1,
     "metadata": {},
     "output_type": "execute_result"
    }
   ],
   "source": [
    "def area(**kwargs):     # ** for Keyword arguments.\n",
    "    return kwargs       # It returns keyword args as dict items.\n",
    "area(a=1,b=2,c=3)"
   ]
  },
  {
   "cell_type": "code",
   "execution_count": 2,
   "metadata": {},
   "outputs": [],
   "source": [
    "#### Infinite Number of Keyword Arguments"
   ]
  },
  {
   "cell_type": "code",
   "execution_count": 6,
   "metadata": {},
   "outputs": [
    {
     "name": "stdout",
     "output_type": "stream",
     "text": [
      "9\n"
     ]
    }
   ],
   "source": [
    "def find_sum(**kwargs):\n",
    "    return sum(kwargs.values())\n",
    "    \n",
    "print(find_sum(a=3,b=6))"
   ]
  },
  {
   "cell_type": "code",
   "execution_count": null,
   "metadata": {},
   "outputs": [],
   "source": []
  }
 ],
 "metadata": {
  "kernelspec": {
   "display_name": "Python 3",
   "language": "python",
   "name": "python3"
  },
  "language_info": {
   "codemirror_mode": {
    "name": "ipython",
    "version": 3
   },
   "file_extension": ".py",
   "mimetype": "text/x-python",
   "name": "python",
   "nbconvert_exporter": "python",
   "pygments_lexer": "ipython3",
   "version": "3.6.5"
  }
 },
 "nbformat": 4,
 "nbformat_minor": 2
}
